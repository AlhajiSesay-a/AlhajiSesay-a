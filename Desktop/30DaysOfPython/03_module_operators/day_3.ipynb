{
 "cells": [
  {
   "cell_type": "markdown",
   "metadata": {},
   "source": [
    "### Exercises - Module 3"
   ]
  },
  {
   "cell_type": "code",
   "execution_count": null,
   "metadata": {},
   "outputs": [],
   "source": [
    "# 1. Declearing age as integer variable\n",
    "age = int('20') # taken 20 as a string variable\n",
    "print(age)"
   ]
  },
  {
   "cell_type": "code",
   "execution_count": null,
   "metadata": {},
   "outputs": [],
   "source": [
    "# 2. Declearing height as float variable data type\n",
    "height = float(6)\n",
    "print(height)"
   ]
  },
  {
   "cell_type": "code",
   "execution_count": null,
   "metadata": {},
   "outputs": [],
   "source": [
    "# 3. Declearing variable that store complex number\n",
    "complex_num = (2 -5J)\n",
    "print(complex_num)"
   ]
  },
  {
   "cell_type": "code",
   "execution_count": null,
   "metadata": {},
   "outputs": [
    {
     "name": "stdout",
     "output_type": "stream",
     "text": [
      "Area of triangle is:  100.0\n"
     ]
    }
   ],
   "source": [
    "# 4. Write a script that prompts the user to enter base and height of the triangle to calculate area\n",
    "base = int(input('Enter the base value of triangle: '))\n",
    "height = int(input('Enter the height value of triangle: '))\n",
    "area_of_triangle = 0.5 * base * height \n",
    "print('Area of triangle is: ', area_of_triangle)\n"
   ]
  },
  {
   "cell_type": "code",
   "execution_count": 18,
   "metadata": {},
   "outputs": [
    {
     "name": "stdout",
     "output_type": "stream",
     "text": [
      "The perimeter of the triangle is = 12\n"
     ]
    }
   ],
   "source": [
    "# 5. Write a script that prompts the user to enter side a, side b, and side c of a triangle. \n",
    "# Determine the perimeter of the triangle (perimeter = a + b +c)\n",
    "side_a = int(input('Enter value for side_a '))\n",
    "side_b = int(input('Enter value for side_b '))\n",
    "side_c = int(input('Enter value for side_c '))\n",
    "perimeter_of_triangle = side_a + side_b + side_c\n",
    "print('The perimeter of the triangle is =', perimeter_of_triangle)"
   ]
  },
  {
   "cell_type": "code",
   "execution_count": 22,
   "metadata": {},
   "outputs": [
    {
     "name": "stdout",
     "output_type": "stream",
     "text": [
      "The area of rectangle is =  200\n"
     ]
    }
   ],
   "source": [
    "# 6. Length and width of a rectangle using prompts to calculate it area and perimeter\n",
    "# Area = length x width, perimeter = 2(length + width)\n",
    "length = int(input('Enter the length of recangle: '))\n",
    "width = int(input('Enter the width of recangle: ')) \n",
    "area_of_recangle = length * width\n",
    "print('The area of rectangle is = ', area_of_recangle)"
   ]
  },
  {
   "cell_type": "code",
   "execution_count": 23,
   "metadata": {},
   "outputs": [
    {
     "name": "stdout",
     "output_type": "stream",
     "text": [
      "The area of a circle =  50.272\n",
      "The curcumfrance of a circle = 25.136\n"
     ]
    }
   ],
   "source": [
    "# 7. Using prompts to get radius of a cycle to calculate area and perimeter \n",
    "circle_radius = int(input('Enter the radius of circle '))\n",
    "pi = 3.142\n",
    "area_of_circle = pi * circle_radius**2\n",
    "print('The area of a circle = ', area_of_circle)\n",
    "circumfrance = 2 * pi * circle_radius\n",
    "print(\"The curcumfrance of a circle =\", circumfrance)\n"
   ]
  }
 ],
 "metadata": {
  "kernelspec": {
   "display_name": "AREWADS-TRAINING",
   "language": "python",
   "name": "python3"
  },
  "language_info": {
   "codemirror_mode": {
    "name": "ipython",
    "version": 3
   },
   "file_extension": ".py",
   "mimetype": "text/x-python",
   "name": "python",
   "nbconvert_exporter": "python",
   "pygments_lexer": "ipython3",
   "version": "3.13.0"
  }
 },
 "nbformat": 4,
 "nbformat_minor": 2
}
